{
  "nbformat": 4,
  "nbformat_minor": 0,
  "metadata": {
    "colab": {
      "name": "Data Train wk3.ipynb",
      "provenance": [],
      "include_colab_link": true
    },
    "kernelspec": {
      "name": "python3",
      "display_name": "Python 3"
    }
  },
  "cells": [
    {
      "cell_type": "markdown",
      "metadata": {
        "id": "view-in-github",
        "colab_type": "text"
      },
      "source": [
        "<a href=\"https://colab.research.google.com/github/austinhargley/Data-Train-Status-Update---Ikay-/blob/master/Data_Train_wk3.ipynb\" target=\"_parent\"><img src=\"https://colab.research.google.com/assets/colab-badge.svg\" alt=\"Open In Colab\"/></a>"
      ]
    },
    {
      "cell_type": "markdown",
      "metadata": {
        "id": "FIsXqnUNiiYQ",
        "colab_type": "text"
      },
      "source": [
        "# 1. difference between 10 / 3 and 10 // 3\n"
      ]
    },
    {
      "cell_type": "code",
      "metadata": {
        "id": "j-p7lZktiISp",
        "colab_type": "code",
        "colab": {
          "base_uri": "https://localhost:8080/",
          "height": 34
        },
        "outputId": "0488fe4f-a4ab-4a42-cf87-03115b2c9925"
      },
      "source": [
        "x = 10\n",
        "y = 3\n",
        "x/y"
      ],
      "execution_count": 1,
      "outputs": [
        {
          "output_type": "execute_result",
          "data": {
            "text/plain": [
              "3.3333333333333335"
            ]
          },
          "metadata": {
            "tags": []
          },
          "execution_count": 1
        }
      ]
    },
    {
      "cell_type": "code",
      "metadata": {
        "id": "PSFfcmWYiTf_",
        "colab_type": "code",
        "colab": {
          "base_uri": "https://localhost:8080/",
          "height": 34
        },
        "outputId": "abce9fb5-f8bc-4e36-90ca-54a6384d5ecc"
      },
      "source": [
        "x//y"
      ],
      "execution_count": 2,
      "outputs": [
        {
          "output_type": "execute_result",
          "data": {
            "text/plain": [
              "3"
            ]
          },
          "metadata": {
            "tags": []
          },
          "execution_count": 2
        }
      ]
    },
    {
      "cell_type": "markdown",
      "metadata": {
        "id": "_6adGVd7itVE",
        "colab_type": "text"
      },
      "source": [
        "#single slash is the regular division while the double slash rounds to the nearest whole number"
      ]
    },
    {
      "cell_type": "markdown",
      "metadata": {
        "id": "K60AXsoJjO8t",
        "colab_type": "text"
      },
      "source": [
        "# 2. what is 10 ** 3"
      ]
    },
    {
      "cell_type": "code",
      "metadata": {
        "id": "r-Dno39iiYeO",
        "colab_type": "code",
        "colab": {}
      },
      "source": [
        "# It is the 10 raises to power 3 (exponentiation)\n"
      ],
      "execution_count": 0,
      "outputs": []
    },
    {
      "cell_type": "code",
      "metadata": {
        "id": "jDP7XlJZiokl",
        "colab_type": "code",
        "colab": {
          "base_uri": "https://localhost:8080/",
          "height": 34
        },
        "outputId": "090785eb-5bd4-4963-a704-f85d4e474bd0"
      },
      "source": [
        "10 ** 3"
      ],
      "execution_count": 4,
      "outputs": [
        {
          "output_type": "execute_result",
          "data": {
            "text/plain": [
              "1000"
            ]
          },
          "metadata": {
            "tags": []
          },
          "execution_count": 4
        }
      ]
    },
    {
      "cell_type": "markdown",
      "metadata": {
        "id": "_wXpxEMwj1JG",
        "colab_type": "text"
      },
      "source": [
        "#3. Given (x = 1), what will be the value of after we run (x += 2)?"
      ]
    },
    {
      "cell_type": "code",
      "metadata": {
        "id": "uzA6RX9JjfDu",
        "colab_type": "code",
        "colab": {}
      },
      "source": [
        "# it is shorthand for writing x = x +2, so in this case our answer is 3"
      ],
      "execution_count": 0,
      "outputs": []
    },
    {
      "cell_type": "code",
      "metadata": {
        "id": "LsrDQwfVj9V_",
        "colab_type": "code",
        "colab": {}
      },
      "source": [
        "x = 1"
      ],
      "execution_count": 0,
      "outputs": []
    },
    {
      "cell_type": "code",
      "metadata": {
        "id": "D0vA3Sfzj_4H",
        "colab_type": "code",
        "colab": {}
      },
      "source": [
        "x += 2"
      ],
      "execution_count": 0,
      "outputs": []
    },
    {
      "cell_type": "code",
      "metadata": {
        "id": "WeekaWsOk4j4",
        "colab_type": "code",
        "colab": {
          "base_uri": "https://localhost:8080/",
          "height": 34
        },
        "outputId": "07a66933-e108-4f2a-c226-66ddb9103934"
      },
      "source": [
        "print(x)"
      ],
      "execution_count": 9,
      "outputs": [
        {
          "output_type": "stream",
          "text": [
            "3\n"
          ],
          "name": "stdout"
        }
      ]
    },
    {
      "cell_type": "markdown",
      "metadata": {
        "id": "xoySOXj7lEep",
        "colab_type": "text"
      },
      "source": [
        "#4. How can we round a number?"
      ]
    },
    {
      "cell_type": "code",
      "metadata": {
        "id": "k77-e3bjk6yn",
        "colab_type": "code",
        "colab": {}
      },
      "source": [
        "# we use the round function: round(number)"
      ],
      "execution_count": 0,
      "outputs": []
    },
    {
      "cell_type": "markdown",
      "metadata": {
        "id": "Iu2-5ZovlZwq",
        "colab_type": "text"
      },
      "source": [
        "#5. What is the result of float(1)?"
      ]
    },
    {
      "cell_type": "code",
      "metadata": {
        "id": "Za7Tw3C3lxBm",
        "colab_type": "code",
        "colab": {}
      },
      "source": [
        "# it converts an int to decimal "
      ],
      "execution_count": 0,
      "outputs": []
    },
    {
      "cell_type": "code",
      "metadata": {
        "id": "6UDOycCmlX-n",
        "colab_type": "code",
        "colab": {}
      },
      "source": [
        "x= 5"
      ],
      "execution_count": 0,
      "outputs": []
    },
    {
      "cell_type": "code",
      "metadata": {
        "id": "KA41YFzRllBu",
        "colab_type": "code",
        "colab": {
          "base_uri": "https://localhost:8080/",
          "height": 34
        },
        "outputId": "53e336a8-9438-4388-adbe-ac4203275439"
      },
      "source": [
        "float(x)"
      ],
      "execution_count": 15,
      "outputs": [
        {
          "output_type": "execute_result",
          "data": {
            "text/plain": [
              "5.0"
            ]
          },
          "metadata": {
            "tags": []
          },
          "execution_count": 15
        }
      ]
    },
    {
      "cell_type": "markdown",
      "metadata": {
        "id": "oak3Gn7XmD1w",
        "colab_type": "text"
      },
      "source": [
        "#11. Under what circumstances does the expression 18 <= age < 65 evaluate to True?"
      ]
    },
    {
      "cell_type": "code",
      "metadata": {
        "id": "d8H1bhahlmqO",
        "colab_type": "code",
        "colab": {}
      },
      "source": [
        "#if age is less than 65\n",
        "# if age is greater than or equal to 18"
      ],
      "execution_count": 0,
      "outputs": []
    },
    {
      "cell_type": "markdown",
      "metadata": {
        "id": "AEg0ACrtpHky",
        "colab_type": "text"
      },
      "source": [
        "# functions"
      ]
    },
    {
      "cell_type": "markdown",
      "metadata": {
        "id": "cNE0wjxypM3q",
        "colab_type": "text"
      },
      "source": [
        "#1. What is the difference between a parameter and an argument?"
      ]
    },
    {
      "cell_type": "code",
      "metadata": {
        "id": "-xvZUQcOmt9H",
        "colab_type": "code",
        "colab": {}
      },
      "source": [
        "# A parameter is data/variable that you ask to be imputed into a function. When a method is called, \n",
        "# the arguments are the data you pass into the method's parameters."
      ],
      "execution_count": 0,
      "outputs": []
    },
    {
      "cell_type": "markdown",
      "metadata": {
        "id": "OcphdKL_rtOa",
        "colab_type": "text"
      },
      "source": [
        "#2. All functions in Python by default return NONE\n"
      ]
    },
    {
      "cell_type": "markdown",
      "metadata": {
        "id": "fTUajcTIuDyn",
        "colab_type": "text"
      },
      "source": [
        "#3 What are keyword arguments and when should we use them?"
      ]
    },
    {
      "cell_type": "code",
      "metadata": {
        "id": "KSxSFz8orcWy",
        "colab_type": "code",
        "colab": {}
      },
      "source": [
        "# When calling functions in Python, you'll often have to choose between using keyword arguments or positional arguments. \n",
        "# Keyword arguments can often be used to make function calls more explicit.\n",
        " # A keyword argument is where you provide a name to the variable as you pass it into the function. "
      ],
      "execution_count": 0,
      "outputs": []
    },
    {
      "cell_type": "markdown",
      "metadata": {
        "id": "X3xPSr9VvZZa",
        "colab_type": "text"
      },
      "source": [
        "#4. How can we make a parameter of a function optional?\n"
      ]
    },
    {
      "cell_type": "code",
      "metadata": {
        "id": "urixGJ7Bvluo",
        "colab_type": "code",
        "colab": {}
      },
      "source": [
        "# by defining the default value"
      ],
      "execution_count": 0,
      "outputs": []
    },
    {
      "cell_type": "markdown",
      "metadata": {
        "id": "2X2gxTiRx1q3",
        "colab_type": "text"
      },
      "source": [
        "#5. What happens when we prefix a parameter with an asterisk (*)?"
      ]
    },
    {
      "cell_type": "code",
      "metadata": {
        "id": "cmtZNcw-xpo9",
        "colab_type": "code",
        "colab": {}
      },
      "source": [
        "# They are used to define Keyword-only arguments"
      ],
      "execution_count": 0,
      "outputs": []
    }
  ]
}
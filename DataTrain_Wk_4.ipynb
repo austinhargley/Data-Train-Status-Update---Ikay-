{
  "nbformat": 4,
  "nbformat_minor": 0,
  "metadata": {
    "colab": {
      "name": "DataTrain Wk 4.ipynb",
      "provenance": [],
      "include_colab_link": true
    },
    "kernelspec": {
      "name": "python3",
      "display_name": "Python 3"
    }
  },
  "cells": [
    {
      "cell_type": "markdown",
      "metadata": {
        "id": "view-in-github",
        "colab_type": "text"
      },
      "source": [
        "<a href=\"https://colab.research.google.com/github/austinhargley/Data-Train-Status-Update---Ikay-/blob/master/DataTrain_Wk_4.ipynb\" target=\"_parent\"><img src=\"https://colab.research.google.com/assets/colab-badge.svg\" alt=\"Open In Colab\"/></a>"
      ]
    },
    {
      "cell_type": "markdown",
      "metadata": {
        "id": "9sDrrhmx_5AZ",
        "colab_type": "text"
      },
      "source": [
        "#1. Write a function that returns the maximum of two numbers."
      ]
    },
    {
      "cell_type": "code",
      "metadata": {
        "id": "3JMmWf0U_W9B",
        "colab_type": "code",
        "outputId": "c241118c-7999-4bf5-f284-78511fcf6ac4",
        "colab": {
          "base_uri": "https://localhost:8080/",
          "height": 34
        }
      },
      "source": [
        "x= 7\n",
        "y = 10\n",
        "max(x,y)"
      ],
      "execution_count": 0,
      "outputs": [
        {
          "output_type": "execute_result",
          "data": {
            "text/plain": [
              "10"
            ]
          },
          "metadata": {
            "tags": []
          },
          "execution_count": 1
        }
      ]
    },
    {
      "cell_type": "markdown",
      "metadata": {
        "id": "HHgA2Gt-AyEt",
        "colab_type": "text"
      },
      "source": [
        "#3. Function for checking speed of Drivers"
      ]
    },
    {
      "cell_type": "code",
      "metadata": {
        "id": "LYVexmZ7Acve",
        "colab_type": "code",
        "colab": {}
      },
      "source": [
        "def driverspeed(speed) :\n",
        "  if speed < 70\n",
        "  print ('OK')\n",
        "  elif:\n",
        "    x = 70\n",
        "    for x > "
      ],
      "execution_count": 0,
      "outputs": []
    },
    {
      "cell_type": "markdown",
      "metadata": {
        "id": "pcF7jq-IKM6X",
        "colab_type": "text"
      },
      "source": [
        "#4. Shownumbers function\n"
      ]
    },
    {
      "cell_type": "code",
      "metadata": {
        "id": "vQdmFn6rLzT9",
        "colab_type": "code",
        "outputId": "13f0450e-b4da-486a-dfea-9f7147fb94d1",
        "colab": {
          "base_uri": "https://localhost:8080/",
          "height": 130
        }
      },
      "source": [
        "def shownumbers (limit) :\n",
        "  for \n"
      ],
      "execution_count": 0,
      "outputs": [
        {
          "output_type": "error",
          "ename": "IndentationError",
          "evalue": "ignored",
          "traceback": [
            "\u001b[0;36m  File \u001b[0;32m\"<ipython-input-4-24245d348c34>\"\u001b[0;36m, line \u001b[0;32m3\u001b[0m\n\u001b[0;31m    while x > 0 :\u001b[0m\n\u001b[0m                 ^\u001b[0m\n\u001b[0;31mIndentationError\u001b[0m\u001b[0;31m:\u001b[0m unindent does not match any outer indentation level\n"
          ]
        }
      ]
    },
    {
      "cell_type": "code",
      "metadata": {
        "id": "7Ro09tT7SqjB",
        "colab_type": "code",
        "colab": {}
      },
      "source": [
        ""
      ],
      "execution_count": 0,
      "outputs": []
    }
  ]
}